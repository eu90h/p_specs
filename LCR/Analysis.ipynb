{
 "cells": [
  {
   "cell_type": "code",
   "execution_count": 1,
   "metadata": {},
   "outputs": [],
   "source": [
    "import numpy as np\n",
    "from collections import defaultdict\n",
    "from typing import List, Dict, Set\n"
   ]
  },
  {
   "cell_type": "code",
   "execution_count": 2,
   "metadata": {},
   "outputs": [],
   "source": [
    "#credit Daniel Giger: https://stackoverflow.com/questions/64291076/generating-all-permutations-efficiently/71231033#71231033\n",
    "def permutations(n: int) -> List[List[int]]:\n",
    "    # empty() is fast because it does not initialize the values of the array\n",
    "    # order='F' uses Fortran ordering, which makes accessing elements in the same column fast\n",
    "    perms = np.empty((np.math.factorial(n), n), dtype=np.uint8, order='F')\n",
    "    perms[0, 0] = 0\n",
    "\n",
    "    rows_to_copy = 1\n",
    "    for i in range(1, n):\n",
    "        perms[:rows_to_copy, i] = i\n",
    "        for j in range(1, i + 1):\n",
    "            start_row = rows_to_copy * j\n",
    "            end_row = rows_to_copy * (j + 1)\n",
    "            splitter = i - j\n",
    "            perms[start_row: end_row, splitter] = i\n",
    "            perms[start_row: end_row, :splitter] = perms[:rows_to_copy, :splitter]  # left side\n",
    "            perms[start_row: end_row, splitter + 1:i + 1] = perms[:rows_to_copy, splitter:i]  # right side\n",
    "        rows_to_copy *= i + 1\n",
    "    return perms"
   ]
  },
  {
   "cell_type": "code",
   "execution_count": 13,
   "metadata": {},
   "outputs": [],
   "source": [
    "tNodeID = int\n",
    "def average_hops(node: int, node_ids: Dict[int, tNodeID], N: int, all_perms: List[List[int]]) -> int:\n",
    "    if node < 0 or node > N:\n",
    "        raise ValueError(\"node must be in [0, N-1]\")\n",
    "    hops = []\n",
    "    H = 0\n",
    "    for perm in all_perms:\n",
    "        i = np.argwhere(perm == node)[0][0]\n",
    "        j = (i + 1) % len(perm)\n",
    "        nodes_seen: Set[tNodeID] = set([node_ids[perm[i]]])\n",
    "        H = 0\n",
    "        while True:\n",
    "            nodes_seen.add(node_ids[perm[j]] )\n",
    "            H += 1\n",
    "            if node_ids[perm[j]] < node_ids[node]:\n",
    "                j = (j + 1) % len(perm)\n",
    "                if node_ids[perm[j]] in nodes_seen:\n",
    "                    H += 1\n",
    "                    break\n",
    "            else:\n",
    "                break\n",
    "        hops.append(H)\n",
    "    return np.mean(hops)"
   ]
  },
  {
   "cell_type": "code",
   "execution_count": 19,
   "metadata": {},
   "outputs": [
    {
     "name": "stdout",
     "output_type": "stream",
     "text": [
      "================\n",
      "N is 2\n",
      "node 0's message travels an average of 1.0 hops\n",
      "node 1's message travels an average of 2.0 hops\n",
      "================\n",
      "N is 3\n",
      "node 0's message travels an average of 1.0 hops\n",
      "node 1's message travels an average of 1.5 hops\n",
      "node 2's message travels an average of 3.0 hops\n",
      "================\n",
      "N is 4\n",
      "node 0's message travels an average of 1.0 hops\n",
      "node 1's message travels an average of 1.3333333333333333 hops\n",
      "node 2's message travels an average of 2.0 hops\n",
      "node 3's message travels an average of 4.0 hops\n",
      "================\n",
      "N is 5\n",
      "node 0's message travels an average of 1.0 hops\n",
      "node 1's message travels an average of 1.25 hops\n",
      "node 2's message travels an average of 1.6666666666666667 hops\n",
      "node 3's message travels an average of 2.5 hops\n",
      "node 4's message travels an average of 5.0 hops\n",
      "================\n",
      "N is 6\n",
      "node 0's message travels an average of 1.0 hops\n",
      "node 1's message travels an average of 1.2 hops\n",
      "node 2's message travels an average of 1.5 hops\n",
      "node 3's message travels an average of 2.0 hops\n",
      "node 4's message travels an average of 3.0 hops\n",
      "node 5's message travels an average of 6.0 hops\n",
      "================\n",
      "N is 7\n",
      "node 0's message travels an average of 1.0 hops\n",
      "node 1's message travels an average of 1.1666666666666667 hops\n",
      "node 2's message travels an average of 1.4 hops\n",
      "node 3's message travels an average of 1.75 hops\n",
      "node 4's message travels an average of 2.3333333333333335 hops\n",
      "node 5's message travels an average of 3.5 hops\n",
      "node 6's message travels an average of 7.0 hops\n",
      "================\n",
      "N is 8\n",
      "node 0's message travels an average of 1.0 hops\n",
      "node 1's message travels an average of 1.1428571428571428 hops\n",
      "node 2's message travels an average of 1.3333333333333333 hops\n",
      "node 3's message travels an average of 1.6 hops\n",
      "node 4's message travels an average of 2.0 hops\n",
      "node 5's message travels an average of 2.6666666666666665 hops\n",
      "node 6's message travels an average of 4.0 hops\n",
      "node 7's message travels an average of 8.0 hops\n",
      "================\n",
      "N is 9\n",
      "node 0's message travels an average of 1.0 hops\n",
      "node 1's message travels an average of 1.125 hops\n",
      "node 2's message travels an average of 1.2857142857142858 hops\n",
      "node 3's message travels an average of 1.5 hops\n",
      "node 4's message travels an average of 1.8 hops\n",
      "node 5's message travels an average of 2.25 hops\n",
      "node 6's message travels an average of 3.0 hops\n",
      "node 7's message travels an average of 4.5 hops\n",
      "node 8's message travels an average of 9.0 hops\n"
     ]
    }
   ],
   "source": [
    "for N in range(2,10):\n",
    "    print(\"=\"*16)\n",
    "    print(f\"N is {N}\")\n",
    "    all_perms = permutations(N)\n",
    "    node_ids = {}\n",
    "    for k in range(N):\n",
    "        node_ids[k] = k\n",
    "    for k in range(N):\n",
    "        h = average_hops(k, node_ids, N, all_perms)\n",
    "        print(f\"node {k}'s message travels an average of {h} hops\")"
   ]
  }
 ],
 "metadata": {
  "kernelspec": {
   "display_name": "Python 3",
   "language": "python",
   "name": "python3"
  },
  "language_info": {
   "codemirror_mode": {
    "name": "ipython",
    "version": 3
   },
   "file_extension": ".py",
   "mimetype": "text/x-python",
   "name": "python",
   "nbconvert_exporter": "python",
   "pygments_lexer": "ipython3",
   "version": "3.11.6"
  }
 },
 "nbformat": 4,
 "nbformat_minor": 2
}
